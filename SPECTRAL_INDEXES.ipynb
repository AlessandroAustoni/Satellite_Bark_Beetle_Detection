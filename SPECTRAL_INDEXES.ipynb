{
 "cells": [
  {
   "cell_type": "markdown",
   "id": "24b684e6-22de-4409-a015-459adbd9226c",
   "metadata": {},
   "source": [
    "***Spectral Indexes Computation***"
   ]
  },
  {
   "cell_type": "code",
   "execution_count": 3,
   "id": "c14dfe00-4c33-4c90-857f-70ebace7002f",
   "metadata": {},
   "outputs": [],
   "source": [
    "#Importing\n",
    "import os\n",
    "import sys\n",
    "sys.path.insert(1,'./src')\n",
    "import numpy as np\n",
    "import matplotlib.pyplot as plt\n",
    "plt.style.use('bmh')\n",
    "import rasterio as rio\n",
    "from img_list import prs_list"
   ]
  },
  {
   "cell_type": "code",
   "execution_count": 4,
   "id": "f05a0afa-c60c-425d-b720-3035c960bd77",
   "metadata": {},
   "outputs": [
    {
     "name": "stdout",
     "output_type": "stream",
     "text": [
      "20211010102350\n"
     ]
    }
   ],
   "source": [
    "#Parameter Initialization\n",
    "path_l2d = \"../DATABASE/\"\n",
    "name='Gadertal_north_01_prs'\n",
    "name_img_prs=prs_list[name]\n",
    "tstart_prs=prs_list[name][0]\n",
    "tend_prs=prs_list[name][1]\n",
    "filename=path_l2d+'PRS_L2D_STD_'+tstart_prs+'_'+tend_prs+'_0001'\n",
    "print(tstart_prs)"
   ]
  },
  {
   "cell_type": "code",
   "execution_count": 17,
   "id": "f0548312-4c61-4c72-b36b-813b3eec3f54",
   "metadata": {},
   "outputs": [
    {
     "name": "stdout",
     "output_type": "stream",
     "text": [
      "(230, 1220, 1261)\n"
     ]
    }
   ],
   "source": [
    "#import PRISMA Geotiff (after coregistering it with aerial sensor in QGIS)\n",
    "#convert Geotiff back to numpy array (easier to manage for reflectance analysis) \n",
    "#note that an error will pop up if you don't create the clipped file externally, paste it in the DATABASE folder, \n",
    "#and name it in the following way:\n",
    "#'Clipped_'+name+'_vrf.tif' where name is the parameter in the third box of this notebook\n",
    "src = rio.open(path_l2d+name+'_cube_coreg.tif')\n",
    "cube=src.read()\n",
    "src.close()\n",
    "print(np.shape(cube))"
   ]
  },
  {
   "cell_type": "code",
   "execution_count": 18,
   "id": "bbd73b5f-0de4-40ba-a05c-394f29216628",
   "metadata": {},
   "outputs": [
    {
     "name": "stdout",
     "output_type": "stream",
     "text": [
      "vrf shape:  (1220, 1261, 63)\n",
      "srf shape:  (1220, 1261, 167)\n"
     ]
    }
   ],
   "source": [
    "cube=np.moveaxis(cube,0,2)\n",
    "vrf_datacube_prs=cube[:,:,:63]\n",
    "srf_datacube_prs=cube[:,:,63:]\n",
    "print('vrf shape: ',np.shape(vrf_datacube_prs))\n",
    "print('srf shape: ',np.shape(srf_datacube_prs))"
   ]
  },
  {
   "cell_type": "code",
   "execution_count": null,
   "id": "79cc1bf1-f915-4383-9453-4b6d6fea4681",
   "metadata": {},
   "outputs": [],
   "source": [
    "#convert data to reflectance values\n",
    "reflectance_vrf_prs,reflectance_srf_prs = reflectance_norm(path_l2d,vrf_datacube_prs,srf_datacube_prs,tstart_prs,tend_prs)\n",
    "print(np.shape(reflectance_vrf_prs))\n",
    "print(np.shape(reflectance_srf_prs))"
   ]
  },
  {
   "cell_type": "code",
   "execution_count": null,
   "id": "7f408770-c697-4905-af48-99adc42d370a",
   "metadata": {},
   "outputs": [],
   "source": [
    "#merge vrf and srf datacubes\n",
    "reflectance_prs = np.dstack((reflectance_vrf_prs,reflectance_srf_prs))\n",
    "print('after merge: '+str(np.shape(datacube_prs)))"
   ]
  },
  {
   "cell_type": "code",
   "execution_count": null,
   "id": "fb56eda1-9adb-4523-826c-34fd02c736f1",
   "metadata": {},
   "outputs": [],
   "source": [
    "#export datacube and wavelength array for backup\n",
    "if save_files is True:\n",
    "    np.save(PRISMA_path+'/'+name+'_reflectance',datacube_prs)"
   ]
  },
  {
   "cell_type": "code",
   "execution_count": null,
   "id": "1249ef23-8db4-428d-9095-07439a5a8711",
   "metadata": {},
   "outputs": [],
   "source": [
    "if load_files is True:\n",
    "    reflectance_prs = np.load(PRISMA_path+'/'+name+'_reflectance.npy')\n",
    "    wl_prs = np.load(PRISMA_path+'/'+name+'_wl.npy')"
   ]
  },
  {
   "cell_type": "code",
   "execution_count": null,
   "id": "453c32d9-2719-44f7-8bf6-c1c5afe52280",
   "metadata": {},
   "outputs": [],
   "source": [
    "#extracting the index in the vwl1 vector corresponding to R,G,B bands\n",
    "R_idx_prs=find_nearest(wl_prs,640)\n",
    "G_idx_prs=find_nearest(wl_prs,560)\n",
    "B_idx_prs=find_nearest(wl_prs,480)"
   ]
  },
  {
   "cell_type": "code",
   "execution_count": null,
   "id": "60213389-1a85-46d2-a4c1-62b311d17e35",
   "metadata": {},
   "outputs": [],
   "source": [
    "#plot histogram of reflectance value to help with histogram stretching\n",
    "plt.figure(figsize=[20,6])\n",
    "plt.hist(reflectance_prs.ravel(),density='True',histtype='step',linewidth=2, label='Reflectance histogram') \n",
    "plt.legend()\n",
    "plt.title(\"Reflectance histogram for \"+name)"
   ]
  },
  {
   "cell_type": "code",
   "execution_count": null,
   "id": "a5833018-e4b8-414f-b132-93874db617bf",
   "metadata": {},
   "outputs": [],
   "source": [
    "rgb = make_rgb_dc(reflectance_prs,wl_prs)\n",
    "if make_plots is True:\n",
    "    plt.figure(figsize=(10,10))\n",
    "    \n",
    "    \n",
    "    #uncomment if histogram stretch is needed (enhance image contrast accorsingly to the histogram of the reflectance values)\n",
    "    threshold=0.7\n",
    "    rgb[rgb>threshold]=threshold\n",
    "    rgb=rgb/threshold\n",
    "    plt.imshow(rgb)"
   ]
  }
 ],
 "metadata": {
  "kernelspec": {
   "display_name": "Python 3 (ipykernel)",
   "language": "python",
   "name": "python3"
  },
  "language_info": {
   "codemirror_mode": {
    "name": "ipython",
    "version": 3
   },
   "file_extension": ".py",
   "mimetype": "text/x-python",
   "name": "python",
   "nbconvert_exporter": "python",
   "pygments_lexer": "ipython3",
   "version": "3.9.12"
  }
 },
 "nbformat": 4,
 "nbformat_minor": 5
}

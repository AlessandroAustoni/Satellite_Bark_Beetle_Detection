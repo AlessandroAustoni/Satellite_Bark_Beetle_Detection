{
 "cells": [
  {
   "cell_type": "code",
   "execution_count": null,
   "id": "3f8a7a59-1172-4fd8-adaa-0abdf3756e07",
   "metadata": {},
   "outputs": [],
   "source": [
    "#Importing\n",
    "import os\n",
    "import sys\n",
    "sys.path.insert(1,'./src')\n",
    "import numpy as np\n",
    "import matplotlib.pyplot as plt\n",
    "plt.style.use('bmh')\n",
    "import rasterio as rio\n",
    "from img_list import prs_list\n",
    "import math\n",
    "import cv2\n",
    "import pandas as pd\n",
    "from sklearn import metrics"
   ]
  },
  {
   "cell_type": "code",
   "execution_count": null,
   "id": "03cd28f3-c87d-40b7-a506-1b43b354d201",
   "metadata": {},
   "outputs": [],
   "source": [
    "#Parameter Initialization\n",
    "path_l2d = \"../DATABASE/\"\n",
    "aerial_path=\"../DATABASE/aerial/\"\n",
    "PRISMA_path=\"../DATABASE/PRISMA/\"\n",
    "name='Gad161022'\n",
    "name_img_prs=prs_list[name]\n",
    "tstart_prs=prs_list[name][0]\n",
    "tend_prs=prs_list[name][1]\n",
    "filename='PRS_L2D_STD_'+tstart_prs+'_'+tend_prs+'_0001'\n",
    "print(tstart_prs)\n",
    "prisma=True\n",
    "area=\"area3\"\n",
    "AREA=\"AREA3\"\n",
    "validation=True\n",
    "if prisma:\n",
    "    path=PRISMA_path\n",
    "else:\n",
    "    path=aerial_path\n",
    "save=True"
   ]
  },
  {
   "cell_type": "code",
   "execution_count": null,
   "id": "ca0610ed-1bc5-4c7b-aa3c-5e1c056f033b",
   "metadata": {},
   "outputs": [],
   "source": [
    "#import PRISMA classification\n",
    "prisma_dead_trees = np.load(path+'index_bin/'+area+'/frequency_binary.npy')\n",
    "plt.imshow(prisma_dead_trees,cmap='binary')\n",
    "#import validation data (company's classification)\n",
    "src = rio.open(aerial_path+'Gad_classification_'+area+'_32632.tif')\n",
    "validation=src.read()\n",
    "src.close()\n",
    "validation=np.moveaxis(validation,0,2)\n",
    "dead_trees=np.where(validation!=1,0,validation)\n",
    "plt.figure(figsize=(10,10))\n",
    "plt.imshow(dead_trees,cmap='binary')\n",
    "print(np.shape(dead_trees))\n",
    "print(np.shape(prisma_dead_trees))"
   ]
  },
  {
   "cell_type": "code",
   "execution_count": null,
   "id": "25b4c30b-bdb3-42d2-bcb8-ab3ce72bc3b8",
   "metadata": {},
   "outputs": [],
   "source": [
    "#res = cv2.resize(prisma_dead_trees, dsize=(np.shape(validation)[1],np.shape(validation)[0]),interpolation=cv2.INTER_NEAREST)\n",
    "res=prisma_dead_trees\n",
    "dead_trees=cv2.resize(dead_trees, dsize=(np.shape(prisma_dead_trees)[1],np.shape(prisma_dead_trees)[0]),interpolation=cv2.INTER_NEAREST)"
   ]
  },
  {
   "cell_type": "code",
   "execution_count": null,
   "id": "21603fa8-6150-43a5-8b78-a58d915ad980",
   "metadata": {},
   "outputs": [],
   "source": [
    "\"\"\"\n",
    "plt.figure(figsize=(20,10))\n",
    "plt.subplot(1,2,1)\n",
    "plt.imshow(res,cmap='binary')\n",
    "plt.title('improved resolution PRISMA')\n",
    "plt.subplot(1,2,2)\n",
    "plt.imshow(prisma_dead_trees,cmap='binary')\n",
    "plt.title('normal resolution PRISMA')\n",
    "\"\"\""
   ]
  },
  {
   "cell_type": "code",
   "execution_count": null,
   "id": "713b89ea-2418-4ffb-a609-ff5c12c64ccc",
   "metadata": {},
   "outputs": [],
   "source": [
    "plt.figure(figsize=(20,10))\n",
    "plt.subplot(1,2,1)\n",
    "plt.imshow(res,cmap='binary')\n",
    "plt.title('original resolution PRISMA')\n",
    "plt.subplot(1,2,2)\n",
    "plt.imshow(dead_trees,cmap='binary')\n",
    "plt.title('downsampled aerial')\n",
    "print('shape prs: '+str(np.shape(res))+'\\nshape aerial: '+str(np.shape(dead_trees)))"
   ]
  },
  {
   "cell_type": "code",
   "execution_count": null,
   "id": "93d2aa70-fb92-4e79-ad17-0028be66435d",
   "metadata": {},
   "outputs": [],
   "source": [
    "actual = dead_trees.ravel()\n",
    "predicted = res.ravel()\n",
    "\n",
    "confusion_matrix = metrics.confusion_matrix(actual, predicted)\n",
    "\n",
    "cm_display = metrics.ConfusionMatrixDisplay(confusion_matrix = confusion_matrix, display_labels = [False, True])\n",
    "\n",
    "cm_display.plot()\n",
    "plt.show()\n",
    "Accuracy = metrics.accuracy_score(actual, predicted)\n",
    "Precision = metrics.precision_score(actual, predicted)\n",
    "print('Accuracy: '+str(Accuracy))\n",
    "print('Precision: '+str(Precision))"
   ]
  },
  {
   "cell_type": "code",
   "execution_count": null,
   "id": "26fca368-fc37-40c2-8b60-bf48d317747f",
   "metadata": {},
   "outputs": [],
   "source": [
    "#error map\n",
    "emap=dead_trees[:,:,0]+res\n",
    "plt.imshow(emap,cmap='jet')\n",
    "plt.colorbar()\n",
    "print('True positive: red\\nTrue negative: blue\\nMisclassified: green')\n",
    "import warnings\n",
    "warnings.filterwarnings('ignore')"
   ]
  },
  {
   "cell_type": "code",
   "execution_count": null,
   "id": "df80746a-378c-4c33-941e-8f4c65b0c7b1",
   "metadata": {},
   "outputs": [],
   "source": [
    "tp=np.where(emap==2,1,0)\n",
    "plt.imshow(tp)\n",
    "plt.title('True Positive')"
   ]
  },
  {
   "cell_type": "code",
   "execution_count": null,
   "id": "b0a60203-e78f-48cb-906e-8c6c6dcc130e",
   "metadata": {},
   "outputs": [],
   "source": []
  }
 ],
 "metadata": {
  "kernelspec": {
   "display_name": "Python 3 (ipykernel)",
   "language": "python",
   "name": "python3"
  },
  "language_info": {
   "codemirror_mode": {
    "name": "ipython",
    "version": 3
   },
   "file_extension": ".py",
   "mimetype": "text/x-python",
   "name": "python",
   "nbconvert_exporter": "python",
   "pygments_lexer": "ipython3",
   "version": "3.9.12"
  }
 },
 "nbformat": 4,
 "nbformat_minor": 5
}
